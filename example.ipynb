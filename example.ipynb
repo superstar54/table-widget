{
 "cells": [
  {
   "cell_type": "markdown",
   "metadata": {},
   "source": [
    "# WEAS Widget examples\n",
    "\n",
    "## Installation\n"
   ]
  },
  {
   "cell_type": "code",
   "execution_count": null,
   "metadata": {},
   "outputs": [],
   "source": [
    "!pip install table-widget"
   ]
  },
  {
   "cell_type": "markdown",
   "metadata": {},
   "source": [
    "\n",
    "## Basic Usage\n",
    "\n",
    "Create an Instance of the Table Widget:"
   ]
  },
  {
   "cell_type": "code",
   "execution_count": null,
   "metadata": {},
   "outputs": [],
   "source": [
    "from table_widget import TableWidget\n",
    "import pandas as pd\n",
    "\n",
    "# Create a table widget\n",
    "table = TableWidget(style={\"height\": \"500px\"}, config={\"pagination\": True})\n",
    "\n",
    "# Generate data\n",
    "data = pd.DataFrame({\n",
    "    \"name\": [\"Alice\", \"Bob\", \"Charlie\"],\n",
    "    \"score\": [85, 90, 78],\n",
    "    \"profile\": [\n",
    "        '<a href=\"https://example.com/alice\" target=\"_blank\">View Profile</a>',\n",
    "        '<a href=\"https://example.com/bob\" target=\"_blank\">View Profile</a>',\n",
    "        '<a href=\"https://example.com/charlie\" target=\"_blank\">View Profile</a>',\n",
    "    ],\n",
    "    \"comment\": [\"Good\", \"Excellent\", \"Average\"],\n",
    "    \"status\": [\"Active\", \"Inactive\", \"Active\"],\n",
    "})\n",
    "columns = [\n",
    "    {\"field\": \"name\", \"headerName\": \"Name\", \"editable\": False},\n",
    "    {\"field\": \"score\", \"headerName\": \"Score\", \"dataType\": \"number\", \"editable\": True},\n",
    "    {\"field\": \"profile\", \"headerName\": \"Profile\", \"dataType\": \"link\", \"editable\": False},\n",
    "    {\"field\": \"comment\", \"headerName\": \"Comment\", \"editable\": True},\n",
    "    {\"field\": \"status\", \"headerName\": \"Status\", \"type\": \"singleSelect\", \"valueOptions\": [\"Active\", \"Inactive\"], \"editable\": True},\n",
    "]\n",
    "\n",
    "# Load data into the table\n",
    "table.from_data(data, columns=columns)\n",
    "table"
   ]
  },
  {
   "cell_type": "markdown",
   "metadata": {},
   "source": [
    "## Interactive Features\n",
    "\n",
    "You can dynamically generate and update the data displayed in the table. The widget allows you to observe updates to rows and react to them."
   ]
  },
  {
   "cell_type": "code",
   "execution_count": 6,
   "metadata": {},
   "outputs": [
    {
     "data": {
      "application/vnd.jupyter.widget-view+json": {
       "model_id": "3209412a583d467eadb59f6a29022b17",
       "version_major": 2,
       "version_minor": 0
      },
      "text/plain": [
       "VBox(children=(TableWidget(columns=[{'field': 'name', 'headerName': 'Name', 'editable': False}, {'field': 'sco…"
      ]
     },
     "metadata": {},
     "output_type": "display_data"
    }
   ],
   "source": [
    "from table_widget import TableWidget\n",
    "import pandas as pd\n",
    "import random\n",
    "import ipywidgets as ipw\n",
    "\n",
    "\n",
    "n = ipw.IntText()\n",
    "\n",
    "table = TableWidget(\n",
    "                   config={\"checkboxSelection\": False, \"pagination\": True})\n",
    "\n",
    "a = 0\n",
    "\n",
    "def on_row_update(change):\n",
    "    print(\"row updated: \")\n",
    "    if change['new'] is not None:\n",
    "        id = change[\"new\"][\"id\"]\n",
    "        # find the row in the data and update it\n",
    "        for i, row in enumerate(table.data):\n",
    "            if row[\"id\"] == id:\n",
    "                print(\"updating row\", i)\n",
    "                table.data[i] = change[\"new\"]\n",
    "                break\n",
    "        \n",
    "    \n",
    "\n",
    "table.observe(on_row_update, \"updatedRow\")\n",
    "\n",
    "def generate_data(N):\n",
    "    # Generate N rows of sample data\n",
    "    data = {\n",
    "       \"name\": [f\"Person_{i}\" for i in range(1, N+1)],\n",
    "        \"score\": [round(random.uniform(0, N), 2) for _ in range(N)],\n",
    "        \"comment\": [random.choice([\"Good\", \"Average\", \"Needs Improvement\", \"Excellent\"]) for _ in range(N)],\n",
    "        \"website\": ['<a href=\"https://example.com/bob\" target=\"_blank\">View Profile</a>']*N,\n",
    "        \"action\": [\"Action\" for _ in range(N)]\n",
    "    }\n",
    "    \n",
    "    metedata = [{'field': 'name', 'headerName': 'Name', 'editable': False},\n",
    "     {'field': 'score', 'dataType': 'number', 'headerName': 'Ccore', 'editable': True},\n",
    "     {'field': 'comment', 'headerName': 'comment', 'editable': True},\n",
    "     {'field': 'website', 'dataType': 'link', 'headerName': 'Website', 'editable': False},\n",
    "     {'field': 'action', 'dataType': 'button', 'headerName': 'Action', 'editable': True}]\n",
    "    \n",
    "    df = pd.DataFrame(data)\n",
    "    return df, metedata\n",
    "\n",
    "def on_n_change(change):\n",
    "    if change['type'] == 'change' and change['name'] == 'value':\n",
    "        N = change['new']\n",
    "        df, metedata = generate_data(N)\n",
    "        table.from_data(df.to_dict(orient=\"records\"),\n",
    "                columns=metedata)\n",
    "\n",
    "    \n",
    "n.observe(on_n_change)\n",
    "\n",
    "n.value = 200\n",
    "\n",
    "\n",
    "vbox = ipw.VBox()\n",
    "vbox.children = [n, table]\n",
    "vbox"
   ]
  }
 ],
 "metadata": {
  "kernelspec": {
   "display_name": "Python 3 (ipykernel)",
   "language": "python",
   "name": "python3"
  },
  "language_info": {
   "codemirror_mode": {
    "name": "ipython",
    "version": 3
   },
   "file_extension": ".py",
   "mimetype": "text/x-python",
   "name": "python",
   "nbconvert_exporter": "python",
   "pygments_lexer": "ipython3",
   "version": "3.11.0"
  }
 },
 "nbformat": 4,
 "nbformat_minor": 4
}
