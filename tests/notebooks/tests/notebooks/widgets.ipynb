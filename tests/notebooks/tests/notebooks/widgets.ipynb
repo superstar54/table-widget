{
 "cells": [
  {
   "cell_type": "code",
   "execution_count": null,
   "metadata": {},
   "outputs": [],
   "source": [
    "import warnings\n",
    "from table_widget import TableWidget\n",
    "import pandas as pd\n",
    "\n",
    "warnings.filterwarnings('ignore')\n",
    "\n",
    "# Create a table widget\n",
    "table = TableWidget(style={\"height\": \"500px\"}, config={\"pagination\": True})\n",
    "\n",
    "# Generate data\n",
    "data = pd.DataFrame({\n",
    "    \"name\": [\"Alice\", \"Bob\", \"Charlie\"],\n",
    "    \"score\": [85, 90, 78],\n",
    "    \"profile\": [\n",
    "        '<a href=\"https://example.com/alice\" target=\"_blank\">View Profile</a>',\n",
    "        '<a href=\"https://example.com/bob\" target=\"_blank\">View Profile</a>',\n",
    "        '<a href=\"https://example.com/charlie\" target=\"_blank\">View Profile</a>',\n",
    "    ],\n",
    "    \"comment\": [\"Good\", \"Excellent\", \"Average\"],\n",
    "    \"status\": [\"Active\", \"Inactive\", \"Active\"],\n",
    "})\n",
    "columns = [\n",
    "    {\"field\": \"name\", \"headerName\": \"Name\", \"editable\": False},\n",
    "    {\"field\": \"score\", \"headerName\": \"Score\", \"dataType\": \"number\", \"editable\": True},\n",
    "    {\"field\": \"profile\", \"headerName\": \"Profile\", \"dataType\": \"link\", \"editable\": False},\n",
    "    {\"field\": \"comment\", \"headerName\": \"Comment\", \"editable\": True},\n",
    "    {\"field\": \"status\", \"headerName\": \"Status\", \"type\": \"singleSelect\", \"valueOptions\": [\"Active\", \"Inactive\"], \"editable\": True},\n",
    "]\n",
    "\n",
    "# Load data into the table\n",
    "table.from_data(data, columns=columns)\n",
    "table"
   ]
  }
 ],
 "metadata": {
  "kernelspec": {
   "display_name": "aiida",
   "language": "python",
   "name": "python3"
  },
  "language_info": {
   "codemirror_mode": {
    "name": "ipython",
    "version": 3
   },
   "file_extension": ".py",
   "mimetype": "text/x-python",
   "name": "python",
   "nbconvert_exporter": "python",
   "pygments_lexer": "ipython3",
   "version": "3.11.0"
  }
 },
 "nbformat": 4,
 "nbformat_minor": 4
}
